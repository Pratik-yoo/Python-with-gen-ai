{
 "cells": [
  {
   "cell_type": "code",
   "execution_count": 1,
   "id": "9527b659-a0d8-4767-ab1d-44fe54f0ed19",
   "metadata": {},
   "outputs": [],
   "source": [
    "#python Object Orinted programing"
   ]
  },
  {
   "cell_type": "code",
   "execution_count": 3,
   "id": "1f2a7af8-141e-4d74-bc2a-564c5cbf3d84",
   "metadata": {},
   "outputs": [],
   "source": [
    "#python Classes"
   ]
  },
  {
   "cell_type": "code",
   "execution_count": 41,
   "id": "f44fd511-adfb-482c-b942-23c0e994d8ab",
   "metadata": {},
   "outputs": [],
   "source": [
    "class phone:\n",
    "    def make_call(self):\n",
    "        print(\"making phone call\")\n",
    "    def play_game(self):\n",
    "        print(\"playing game\")"
   ]
  },
  {
   "cell_type": "code",
   "execution_count": 43,
   "id": "6a79d2e6-2488-4695-8293-3d4ddf5b61b6",
   "metadata": {},
   "outputs": [],
   "source": [
    "p1 = phone()"
   ]
  },
  {
   "cell_type": "code",
   "execution_count": 45,
   "id": "e55b9399-e0b5-4337-a6b1-3f30d2fb9634",
   "metadata": {},
   "outputs": [
    {
     "name": "stdout",
     "output_type": "stream",
     "text": [
      "making phone call\n"
     ]
    }
   ],
   "source": [
    "p1.make_call()"
   ]
  },
  {
   "cell_type": "code",
   "execution_count": 47,
   "id": "0b7d8d2f-07cd-40e0-9bef-a8175a732167",
   "metadata": {},
   "outputs": [
    {
     "name": "stdout",
     "output_type": "stream",
     "text": [
      "playing game\n"
     ]
    }
   ],
   "source": [
    "p1.play_game()"
   ]
  },
  {
   "cell_type": "code",
   "execution_count": 49,
   "id": "470fc798-bf47-42d9-9c8c-53ffef43dd00",
   "metadata": {},
   "outputs": [],
   "source": [
    "#adding parameters the class"
   ]
  },
  {
   "cell_type": "code",
   "execution_count": 61,
   "id": "1ef05e6e-7ad3-4e56-ab95-a8339b6989e8",
   "metadata": {},
   "outputs": [],
   "source": [
    "class phone:\n",
    "    def set_color(self,color):\n",
    "        self.color=color\n",
    "        \n",
    "    def set_cost(self,cost):\n",
    "        self.cost=cost\n",
    "        \n",
    "    def show_color(self):\n",
    "        return self.color\n",
    "\n",
    "    def show_cost(self):\n",
    "        return self.cost\n",
    "        \n",
    "    def make_call(self):\n",
    "        print(\"making phone call\")\n",
    "        \n",
    "    def play_game(self):\n",
    "        print(\"playing game\")\n",
    "        "
   ]
  },
  {
   "cell_type": "code",
   "execution_count": 63,
   "id": "df98fbcf-a078-4849-9666-7db1acb48a92",
   "metadata": {},
   "outputs": [],
   "source": [
    "p1 = phone()"
   ]
  },
  {
   "cell_type": "code",
   "execution_count": 65,
   "id": "0a686512-a38b-4959-9db2-e5e9d1eb9069",
   "metadata": {},
   "outputs": [],
   "source": [
    "p1.set_color(\"rad\")"
   ]
  },
  {
   "cell_type": "code",
   "execution_count": 69,
   "id": "3f63ee6f-583e-4e8e-9171-a74a2c6ea7fb",
   "metadata": {},
   "outputs": [],
   "source": [
    "p1.set_cost(21000)"
   ]
  },
  {
   "cell_type": "code",
   "execution_count": 71,
   "id": "07951af4-2815-4a0c-8c22-fc2ff9e76f0b",
   "metadata": {},
   "outputs": [
    {
     "data": {
      "text/plain": [
       "'rad'"
      ]
     },
     "execution_count": 71,
     "metadata": {},
     "output_type": "execute_result"
    }
   ],
   "source": [
    "p1.show_color()"
   ]
  },
  {
   "cell_type": "code",
   "execution_count": 73,
   "id": "b30f8673-4562-4949-ad23-3e1125e46d3e",
   "metadata": {},
   "outputs": [
    {
     "data": {
      "text/plain": [
       "21000"
      ]
     },
     "execution_count": 73,
     "metadata": {},
     "output_type": "execute_result"
    }
   ],
   "source": [
    "p1.show_cost()"
   ]
  },
  {
   "cell_type": "code",
   "execution_count": 75,
   "id": "e226f51d-f132-475d-a47c-9084e69509aa",
   "metadata": {},
   "outputs": [],
   "source": [
    "#creating a class with constructor"
   ]
  },
  {
   "cell_type": "code",
   "execution_count": 148,
   "id": "f4011b7e-efa7-427b-af04-486b97cbadd9",
   "metadata": {},
   "outputs": [
    {
     "ename": "NameError",
     "evalue": "name 'gender' is not defined",
     "output_type": "error",
     "traceback": [
      "\u001b[1;31m---------------------------------------------------------------------------\u001b[0m",
      "\u001b[1;31mNameError\u001b[0m                                 Traceback (most recent call last)",
      "Cell \u001b[1;32mIn[148], line 14\u001b[0m\n\u001b[0;32m     11\u001b[0m         \u001b[38;5;28mprint\u001b[39m(\u001b[38;5;124m\"\u001b[39m\u001b[38;5;124msalary of employ is\u001b[39m\u001b[38;5;124m\"\u001b[39m,\u001b[38;5;28mself\u001b[39m\u001b[38;5;241m.\u001b[39msalary)\n\u001b[0;32m     12\u001b[0m         \u001b[38;5;28mprint\u001b[39m(\u001b[38;5;124m\"\u001b[39m\u001b[38;5;124mgender of employ is\u001b[39m\u001b[38;5;124m\"\u001b[39m,\u001b[38;5;28mself\u001b[39m\u001b[38;5;241m.\u001b[39mgender)\n\u001b[1;32m---> 14\u001b[0m con1 \u001b[38;5;241m=\u001b[39m Employee(\u001b[38;5;124m\"\u001b[39m\u001b[38;5;124mpratik\u001b[39m\u001b[38;5;124m\"\u001b[39m,\u001b[38;5;241m21\u001b[39m,\u001b[38;5;241m60000\u001b[39m,\u001b[38;5;124m\"\u001b[39m\u001b[38;5;124mmale\u001b[39m\u001b[38;5;124m\"\u001b[39m)\n\u001b[0;32m     16\u001b[0m con1\u001b[38;5;241m.\u001b[39mshow_employee_details()\n",
      "Cell \u001b[1;32mIn[148], line 6\u001b[0m, in \u001b[0;36mEmployee.__init__\u001b[1;34m(self, name, age, salary, grender)\u001b[0m\n\u001b[0;32m      4\u001b[0m \u001b[38;5;28mself\u001b[39m\u001b[38;5;241m.\u001b[39mage \u001b[38;5;241m=\u001b[39m age\n\u001b[0;32m      5\u001b[0m \u001b[38;5;28mself\u001b[39m\u001b[38;5;241m.\u001b[39msalary \u001b[38;5;241m=\u001b[39m salary\n\u001b[1;32m----> 6\u001b[0m \u001b[38;5;28mself\u001b[39m\u001b[38;5;241m.\u001b[39mgender \u001b[38;5;241m=\u001b[39m gender\n",
      "\u001b[1;31mNameError\u001b[0m: name 'gender' is not defined"
     ]
    }
   ],
   "source": [
    " class Employee:\n",
    "     def __init__(self,name,age,salary,grender):\n",
    "         self.name = name\n",
    "         self.age = age\n",
    "         self.salary = salary\n",
    "         self.gender = gender\n",
    "\n",
    "     def show_employee_details(self):\n",
    "         print(\"name of employe is\",self.name)\n",
    "         print(\"age of employe is\",self.age)\n",
    "         print(\"salary of employ is\",self.salary)\n",
    "         print(\"gender of employ is\",self.gender)\n",
    "\n",
    "con1 = Employee(\"pratik\",21,60000,\"male\")\n",
    "\n",
    "con1.show_employee_details()"
   ]
  },
  {
   "cell_type": "code",
   "execution_count": 104,
   "id": "5d59b858-4cdd-467a-9b93-92e8eff3a76e",
   "metadata": {},
   "outputs": [],
   "source": [
    "con1 = Employee()"
   ]
  },
  {
   "cell_type": "code",
   "execution_count": 106,
   "id": "5a940ff2-2ffa-4703-b8fc-e898494b0091",
   "metadata": {},
   "outputs": [
    {
     "data": {
      "text/plain": [
       "<__main__.Employee at 0x255bfce94d0>"
      ]
     },
     "execution_count": 106,
     "metadata": {},
     "output_type": "execute_result"
    }
   ],
   "source": [
    "con1"
   ]
  },
  {
   "cell_type": "code",
   "execution_count": 112,
   "id": "e8f90fe7-3652-442e-8ff5-24cb3520c39c",
   "metadata": {},
   "outputs": [
    {
     "ename": "TypeError",
     "evalue": "Employee() takes no arguments",
     "output_type": "error",
     "traceback": [
      "\u001b[1;31m---------------------------------------------------------------------------\u001b[0m",
      "\u001b[1;31mTypeError\u001b[0m                                 Traceback (most recent call last)",
      "Cell \u001b[1;32mIn[112], line 1\u001b[0m\n\u001b[1;32m----> 1\u001b[0m con1 \u001b[38;5;241m=\u001b[39m Employee(\u001b[38;5;124m\"\u001b[39m\u001b[38;5;124mpratik\u001b[39m\u001b[38;5;124m\"\u001b[39m,\u001b[38;5;241m21\u001b[39m,\u001b[38;5;241m60000\u001b[39m,\u001b[38;5;124m\"\u001b[39m\u001b[38;5;124mmale\u001b[39m\u001b[38;5;124m\"\u001b[39m)\n",
      "\u001b[1;31mTypeError\u001b[0m: Employee() takes no arguments"
     ]
    }
   ],
   "source": [
    "con1 = Employee(\"pratik\",21,60000,\"male\")"
   ]
  },
  {
   "cell_type": "code",
   "execution_count": 114,
   "id": "4d0fcf9e-8839-4454-8980-018f9cc751c4",
   "metadata": {},
   "outputs": [
    {
     "name": "stdout",
     "output_type": "stream",
     "text": [
      "Hello, my name is Alice and I am 30 years old.\n"
     ]
    }
   ],
   "source": [
    "class Person:\n",
    "    def __init__(self, name, age):\n",
    "        self.name = name      # Instance variable for name\n",
    "        self.age = age        # Instance variable for age\n",
    "\n",
    "    def greet(self):\n",
    "        print(f\"Hello, my name is {self.name} and I am {self.age} years old.\")\n",
    "\n",
    "# Creating an object of the class\n",
    "person1 = Person(\"Alice\", 30)\n",
    "\n",
    "# Calling the method\n",
    "person1.greet()\n"
   ]
  },
  {
   "cell_type": "code",
   "execution_count": 118,
   "id": "1ae087d6-a12d-434e-a492-4892270deea2",
   "metadata": {},
   "outputs": [
    {
     "name": "stdout",
     "output_type": "stream",
     "text": [
      "Name of employee is pratik\n",
      "Age of employee is 21\n",
      "Salary of employee is 60000\n",
      "Gender of employee is male\n"
     ]
    }
   ],
   "source": [
    "class Employee:\n",
    "    def __init__(self, name, age, salary, gender):  # fixed __init__ and \"gender\"\n",
    "        self.name = name\n",
    "        self.age = age\n",
    "        self.salary = salary\n",
    "        self.gender = gender\n",
    "\n",
    "    def show_employee_details(self):  # method name uses consistent lowercase\n",
    "        print(\"Name of employee is\", self.name)\n",
    "        print(\"Age of employee is\", self.age)\n",
    "        print(\"Salary of employee is\", self.salary)\n",
    "        print(\"Gender of employee is\", self.gender)\n",
    "\n",
    "# Create an object\n",
    "con1 = Employee(\"pratik\", 21, 60000, \"male\")\n",
    "\n",
    "# Call the method\n",
    "con1.show_employee_details()\n"
   ]
  },
  {
   "cell_type": "code",
   "execution_count": 122,
   "id": "c73378e3-e8db-4df3-a5d2-a4d65f521321",
   "metadata": {},
   "outputs": [],
   "source": [
    "#inheritance in python"
   ]
  },
  {
   "cell_type": "code",
   "execution_count": 142,
   "id": "0e71c3ed-c4a6-4540-9e12-84429fd34b8e",
   "metadata": {},
   "outputs": [],
   "source": [
    "class Vehicle:\n",
    "    def __init__(self,mileage,cost):\n",
    "        self.mileage=mileage\n",
    "        self.cost=cost\n",
    "\n",
    "    def show_vehicle(self):\n",
    "        print(\"i am a vehicle\")\n",
    "        print(\"mileage of the vehicle is\",self.mileage)\n",
    "        print(\"cost of the vehicle is\",self.cost)"
   ]
  },
  {
   "cell_type": "code",
   "execution_count": 136,
   "id": "0f8151ba-7600-463c-9d6d-c6b95585a89d",
   "metadata": {},
   "outputs": [],
   "source": [
    "v1 = Vehicle(60, 90000)"
   ]
  },
  {
   "cell_type": "code",
   "execution_count": 21,
   "id": "7b6a0bfa-2894-4c9b-b159-4d3262ae58e5",
   "metadata": {},
   "outputs": [
    {
     "name": "stdout",
     "output_type": "stream",
     "text": [
      "I am a vehicle\n",
      "Mileage of the vehicle is 15\n",
      "Cost of the vehicle is 500000\n"
     ]
    }
   ],
   "source": [
    "class Vehicle:\n",
    "    def __init__(self, mileage, cost):  # fixed here\n",
    "        self.mileage = mileage\n",
    "        self.cost = cost\n",
    "\n",
    "    def show_vehicle(self):\n",
    "        print(\"I am a vehicle\")\n",
    "        print(\"Mileage of the vehicle is\", self.mileage)\n",
    "        print(\"Cost of the vehicle is\", self.cost)\n",
    "\n",
    "# Example usage:\n",
    "v1 = Vehicle(15, 500000)\n",
    "v1.show_vehicle()\n"
   ]
  },
  {
   "cell_type": "code",
   "execution_count": 23,
   "id": "1456d32e-369e-4dd9-9921-5e5256cb4d14",
   "metadata": {},
   "outputs": [],
   "source": [
    "class Car(Vehicle):\n",
    "    def show_car(self):\n",
    "        print(\"i am car\")"
   ]
  },
  {
   "cell_type": "code",
   "execution_count": 25,
   "id": "caabb058-2571-41b6-9a3f-8a7842aadebb",
   "metadata": {},
   "outputs": [],
   "source": [
    "c1 = Car(200,158455)"
   ]
  },
  {
   "cell_type": "code",
   "execution_count": 27,
   "id": "2ab6a276-9444-4064-9e4a-6c9e98226b86",
   "metadata": {},
   "outputs": [
    {
     "name": "stdout",
     "output_type": "stream",
     "text": [
      "i am car\n"
     ]
    }
   ],
   "source": [
    "c1.show_car()"
   ]
  },
  {
   "cell_type": "code",
   "execution_count": 31,
   "id": "80a7c946-9114-4b0e-9eb9-f7909fe5870b",
   "metadata": {},
   "outputs": [],
   "source": [
    "#over-riding init method"
   ]
  },
  {
   "cell_type": "code",
   "execution_count": 55,
   "id": "f3594840-d1aa-417a-8e87-d451d9da1634",
   "metadata": {},
   "outputs": [],
   "source": [
    "class Vehicle:\n",
    "    def __init__(self, mileage, cost):\n",
    "        self.mileage = mileage\n",
    "        self.cost = cost\n",
    "\n",
    "    def show_vehicle(self):\n",
    "        print(\"I am a vehicle\")\n",
    "        print(\"Mileage of the vehicle is\", self.mileage)\n",
    "        print(\"Cost of the vehicle is\", self.cost)\n",
    "\n",
    "class Car(Vehicle):\n",
    "    def __init__(self, mileage, cost, tyres, hp):\n",
    "        super().__init__(mileage, cost)\n",
    "        self.tyres = tyres\n",
    "        self.hp = hp\n",
    "\n",
    "    def show_car_details(self):\n",
    "        print(\"I am a car\")\n",
    "        print(\"Number of tyres:\", self.tyres)\n",
    "        print(\"Horsepower:\", self.hp)\n"
   ]
  },
  {
   "cell_type": "code",
   "execution_count": 59,
   "id": "423725ce-5bf9-46b5-8fa5-013da3de4657",
   "metadata": {},
   "outputs": [],
   "source": [
    "c1 = Car(30,8555,6,8555)"
   ]
  },
  {
   "cell_type": "code",
   "execution_count": 61,
   "id": "f88b29b4-75a9-458e-9eb3-e988336b67df",
   "metadata": {},
   "outputs": [
    {
     "name": "stdout",
     "output_type": "stream",
     "text": [
      "I am a car\n",
      "Number of tyres: 6\n",
      "Horsepower: 8555\n"
     ]
    }
   ],
   "source": [
    "c1.show_car_details()"
   ]
  },
  {
   "cell_type": "code",
   "execution_count": null,
   "id": "08b62fb5-ffce-4416-8d88-5e38bff75df8",
   "metadata": {},
   "outputs": [],
   "source": []
  }
 ],
 "metadata": {
  "kernelspec": {
   "display_name": "Python 3 (ipykernel)",
   "language": "python",
   "name": "python3"
  },
  "language_info": {
   "codemirror_mode": {
    "name": "ipython",
    "version": 3
   },
   "file_extension": ".py",
   "mimetype": "text/x-python",
   "name": "python",
   "nbconvert_exporter": "python",
   "pygments_lexer": "ipython3",
   "version": "3.11.7"
  }
 },
 "nbformat": 4,
 "nbformat_minor": 5
}
