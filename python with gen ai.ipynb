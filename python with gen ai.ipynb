{
 "cells": [
  {
   "cell_type": "code",
   "execution_count": 1,
   "id": "c8d3bd66-b493-4ca4-bd06-8a9469c02a2b",
   "metadata": {},
   "outputs": [
    {
     "name": "stdout",
     "output_type": "stream",
     "text": [
      " this is pratik\n"
     ]
    }
   ],
   "source": [
    "print(\" this is pratik\")"
   ]
  },
  {
   "cell_type": "code",
   "execution_count": 2,
   "id": "89ae3197-d04f-4a95-9b92-c16b65bcadc3",
   "metadata": {},
   "outputs": [],
   "source": [
    "var1 = \"pratik\""
   ]
  },
  {
   "cell_type": "code",
   "execution_count": 3,
   "id": "669dbf88-f442-4d48-85cd-5f6239b4c0d7",
   "metadata": {},
   "outputs": [
    {
     "name": "stdout",
     "output_type": "stream",
     "text": [
      "pratik\n"
     ]
    }
   ],
   "source": [
    "print(var1)"
   ]
  },
  {
   "cell_type": "code",
   "execution_count": 4,
   "id": "0f1ae83a-7520-480a-a1a6-adee4c16625d",
   "metadata": {},
   "outputs": [],
   "source": [
    "var1 = \"ritik\""
   ]
  },
  {
   "cell_type": "code",
   "execution_count": 5,
   "id": "a9c60ac1-6179-4524-bad7-610af5bb5d3a",
   "metadata": {},
   "outputs": [
    {
     "name": "stdout",
     "output_type": "stream",
     "text": [
      "ritik\n"
     ]
    }
   ],
   "source": [
    "print(var1)"
   ]
  },
  {
   "cell_type": "code",
   "execution_count": 6,
   "id": "a5451ba9-cfe0-4c93-a531-b6d17e54461b",
   "metadata": {},
   "outputs": [],
   "source": [
    "num1 = 10"
   ]
  },
  {
   "cell_type": "code",
   "execution_count": 7,
   "id": "64e76c9f-ee10-45ff-9edb-be31e1ff770f",
   "metadata": {},
   "outputs": [
    {
     "data": {
      "text/plain": [
       "int"
      ]
     },
     "execution_count": 7,
     "metadata": {},
     "output_type": "execute_result"
    }
   ],
   "source": [
    "type(num1)"
   ]
  },
  {
   "cell_type": "code",
   "execution_count": 8,
   "id": "673de20b-f43c-46bc-877e-4677ad4a20bb",
   "metadata": {},
   "outputs": [],
   "source": [
    "num1 = 1.36"
   ]
  },
  {
   "cell_type": "code",
   "execution_count": 9,
   "id": "16f8d66b-5646-40de-a32f-0468769f4011",
   "metadata": {},
   "outputs": [
    {
     "data": {
      "text/plain": [
       "float"
      ]
     },
     "execution_count": 9,
     "metadata": {},
     "output_type": "execute_result"
    }
   ],
   "source": [
    "type(num1)"
   ]
  },
  {
   "cell_type": "code",
   "execution_count": 10,
   "id": "d61f1be8-234a-477c-9f02-13a56663579b",
   "metadata": {},
   "outputs": [],
   "source": [
    "log1 = True"
   ]
  },
  {
   "cell_type": "code",
   "execution_count": 11,
   "id": "7a7e1f2a-e5c0-45c3-838a-585adc07d219",
   "metadata": {},
   "outputs": [
    {
     "data": {
      "text/plain": [
       "bool"
      ]
     },
     "execution_count": 11,
     "metadata": {},
     "output_type": "execute_result"
    }
   ],
   "source": [
    "type (log1)"
   ]
  },
  {
   "cell_type": "code",
   "execution_count": 12,
   "id": "7e4d5f18-1468-48f6-900f-01092beb1761",
   "metadata": {},
   "outputs": [],
   "source": [
    "chr1 = (\"Pratik\")"
   ]
  },
  {
   "cell_type": "code",
   "execution_count": 13,
   "id": "889ac2be-8235-4396-848c-4cef4c245513",
   "metadata": {},
   "outputs": [
    {
     "data": {
      "text/plain": [
       "str"
      ]
     },
     "execution_count": 13,
     "metadata": {},
     "output_type": "execute_result"
    }
   ],
   "source": [
    "type(chr1)"
   ]
  },
  {
   "cell_type": "code",
   "execution_count": 14,
   "id": "c1043929-c003-46d7-9bba-a6191ef1ffb9",
   "metadata": {},
   "outputs": [],
   "source": [
    "com1 = 6+4j"
   ]
  },
  {
   "cell_type": "code",
   "execution_count": 15,
   "id": "6f1dff06-a3e5-4bc6-9060-75826bb07bfe",
   "metadata": {},
   "outputs": [
    {
     "data": {
      "text/plain": [
       "complex"
      ]
     },
     "execution_count": 15,
     "metadata": {},
     "output_type": "execute_result"
    }
   ],
   "source": [
    "type(com1)"
   ]
  },
  {
   "cell_type": "code",
   "execution_count": 16,
   "id": "010a8bd4-9cf7-4d31-87b4-9949b4f3ee81",
   "metadata": {},
   "outputs": [],
   "source": [
    "# Arithmetic oprators  - +,-,*,/"
   ]
  },
  {
   "cell_type": "code",
   "execution_count": 17,
   "id": "d588b944-9f75-4ada-9025-3ff318934cb8",
   "metadata": {},
   "outputs": [],
   "source": [
    "a = 1\n",
    "b = 3"
   ]
  },
  {
   "cell_type": "code",
   "execution_count": 18,
   "id": "b70a9867-ffc4-4a49-96fa-544d4a9a0199",
   "metadata": {},
   "outputs": [
    {
     "data": {
      "text/plain": [
       "4"
      ]
     },
     "execution_count": 18,
     "metadata": {},
     "output_type": "execute_result"
    }
   ],
   "source": [
    "a+b"
   ]
  },
  {
   "cell_type": "code",
   "execution_count": 19,
   "id": "55a5c78a-07a2-4f67-9ce9-3f936b049bf4",
   "metadata": {},
   "outputs": [
    {
     "data": {
      "text/plain": [
       "-2"
      ]
     },
     "execution_count": 19,
     "metadata": {},
     "output_type": "execute_result"
    }
   ],
   "source": [
    "a-b"
   ]
  },
  {
   "cell_type": "code",
   "execution_count": 20,
   "id": "19bd404f-d0e2-4c4f-a273-f4d03c8d70be",
   "metadata": {},
   "outputs": [
    {
     "data": {
      "text/plain": [
       "3"
      ]
     },
     "execution_count": 20,
     "metadata": {},
     "output_type": "execute_result"
    }
   ],
   "source": [
    "a*b"
   ]
  },
  {
   "cell_type": "code",
   "execution_count": 21,
   "id": "fa95871c-829b-44f9-afdd-acfa46353ea9",
   "metadata": {},
   "outputs": [
    {
     "data": {
      "text/plain": [
       "0.3333333333333333"
      ]
     },
     "execution_count": 21,
     "metadata": {},
     "output_type": "execute_result"
    }
   ],
   "source": [
    "a/b"
   ]
  },
  {
   "cell_type": "code",
   "execution_count": 22,
   "id": "bf0de5d3-2f81-4308-aefc-6703a265a1c5",
   "metadata": {},
   "outputs": [],
   "source": [
    "#Relational operators - <,>,==,!="
   ]
  },
  {
   "cell_type": "code",
   "execution_count": 23,
   "id": "21018a28-4e5a-4b3e-b226-74ebb991656b",
   "metadata": {},
   "outputs": [
    {
     "data": {
      "text/plain": [
       "(1, 3)"
      ]
     },
     "execution_count": 23,
     "metadata": {},
     "output_type": "execute_result"
    }
   ],
   "source": [
    "a,b"
   ]
  },
  {
   "cell_type": "code",
   "execution_count": 24,
   "id": "eb195d5a-c95c-4413-86a6-09957a9bf06d",
   "metadata": {},
   "outputs": [
    {
     "data": {
      "text/plain": [
       "True"
      ]
     },
     "execution_count": 24,
     "metadata": {},
     "output_type": "execute_result"
    }
   ],
   "source": [
    "a<b"
   ]
  },
  {
   "cell_type": "code",
   "execution_count": 25,
   "id": "6b39a1c6-9cd1-44f9-aa3b-2bdbc3642a09",
   "metadata": {},
   "outputs": [
    {
     "data": {
      "text/plain": [
       "False"
      ]
     },
     "execution_count": 25,
     "metadata": {},
     "output_type": "execute_result"
    }
   ],
   "source": [
    "a>b"
   ]
  },
  {
   "cell_type": "code",
   "execution_count": 26,
   "id": "bd52c6a1-0101-4e77-bfe1-b2ef20d49800",
   "metadata": {},
   "outputs": [
    {
     "data": {
      "text/plain": [
       "False"
      ]
     },
     "execution_count": 26,
     "metadata": {},
     "output_type": "execute_result"
    }
   ],
   "source": [
    "a==b"
   ]
  },
  {
   "cell_type": "code",
   "execution_count": 27,
   "id": "809507b7-6976-46e7-bef6-a9e9e9102e51",
   "metadata": {},
   "outputs": [
    {
     "data": {
      "text/plain": [
       "True"
      ]
     },
     "execution_count": 27,
     "metadata": {},
     "output_type": "execute_result"
    }
   ],
   "source": [
    "a!=b"
   ]
  },
  {
   "cell_type": "code",
   "execution_count": 28,
   "id": "ee804222-aafc-446c-b943-fc3fcae9091a",
   "metadata": {},
   "outputs": [],
   "source": [
    "#Logical operators - &,|"
   ]
  },
  {
   "cell_type": "code",
   "execution_count": 29,
   "id": "45a478d3-8b47-44cb-a129-0887a505be1c",
   "metadata": {},
   "outputs": [],
   "source": [
    "log1 = True\n",
    "log2 = False"
   ]
  },
  {
   "cell_type": "code",
   "execution_count": 30,
   "id": "bf180829-3fdb-474f-b0e9-8d7673b03a2d",
   "metadata": {},
   "outputs": [
    {
     "data": {
      "text/plain": [
       "False"
      ]
     },
     "execution_count": 30,
     "metadata": {},
     "output_type": "execute_result"
    }
   ],
   "source": [
    "log1&log2"
   ]
  },
  {
   "cell_type": "code",
   "execution_count": 31,
   "id": "76482ec9-b2e8-4759-872a-b3385bbe1070",
   "metadata": {},
   "outputs": [
    {
     "data": {
      "text/plain": [
       "False"
      ]
     },
     "execution_count": 31,
     "metadata": {},
     "output_type": "execute_result"
    }
   ],
   "source": [
    "log2&log1"
   ]
  },
  {
   "cell_type": "code",
   "execution_count": 32,
   "id": "39d705df-0131-4783-94f1-303abaf3de0a",
   "metadata": {},
   "outputs": [
    {
     "data": {
      "text/plain": [
       "False"
      ]
     },
     "execution_count": 32,
     "metadata": {},
     "output_type": "execute_result"
    }
   ],
   "source": [
    "log2&log2"
   ]
  },
  {
   "cell_type": "code",
   "execution_count": 33,
   "id": "d410262a-11d4-4953-bdce-75dabd5116fa",
   "metadata": {},
   "outputs": [
    {
     "data": {
      "text/plain": [
       "True"
      ]
     },
     "execution_count": 33,
     "metadata": {},
     "output_type": "execute_result"
    }
   ],
   "source": [
    "log2|log1"
   ]
  },
  {
   "cell_type": "code",
   "execution_count": 34,
   "id": "f07909bc-c0a3-4d10-87e3-8f117993acf5",
   "metadata": {},
   "outputs": [],
   "source": [
    "n1 = 10"
   ]
  },
  {
   "cell_type": "code",
   "execution_count": 35,
   "id": "f79e7199-77a7-46c3-a44e-0c10d3b9d5f4",
   "metadata": {},
   "outputs": [],
   "source": [
    "N1 = 20"
   ]
  },
  {
   "cell_type": "code",
   "execution_count": 36,
   "id": "802a35c2-2646-498e-8067-1b21e78a4098",
   "metadata": {},
   "outputs": [
    {
     "data": {
      "text/plain": [
       "(10, 20)"
      ]
     },
     "execution_count": 36,
     "metadata": {},
     "output_type": "execute_result"
    }
   ],
   "source": [
    "n1,N1"
   ]
  },
  {
   "cell_type": "code",
   "execution_count": 37,
   "id": "5759e2d6-99e3-4f87-aa82-7fe08e80b164",
   "metadata": {},
   "outputs": [],
   "source": [
    "#string"
   ]
  },
  {
   "cell_type": "code",
   "execution_count": 38,
   "id": "4cdeb795-3506-4d83-a0bd-4515209185f9",
   "metadata": {},
   "outputs": [
    {
     "data": {
      "text/plain": [
       "'pratik'"
      ]
     },
     "execution_count": 38,
     "metadata": {},
     "output_type": "execute_result"
    }
   ],
   "source": [
    "str1 = 'pratik'\n",
    "str1"
   ]
  },
  {
   "cell_type": "code",
   "execution_count": 39,
   "id": "9896c804-ef8b-46b2-a658-a43c23c30109",
   "metadata": {},
   "outputs": [
    {
     "data": {
      "text/plain": [
       "'ritik'"
      ]
     },
     "execution_count": 39,
     "metadata": {},
     "output_type": "execute_result"
    }
   ],
   "source": [
    "str2 = \"ritik\"\n",
    "str2"
   ]
  },
  {
   "cell_type": "code",
   "execution_count": 40,
   "id": "659a6b7d-38ab-4d67-8f24-261e5d23d4bc",
   "metadata": {},
   "outputs": [
    {
     "data": {
      "text/plain": [
       "'\\ni am going\\npuna\\n'"
      ]
     },
     "execution_count": 40,
     "metadata": {},
     "output_type": "execute_result"
    }
   ],
   "source": [
    "str3 = '''\n",
    "i am going\n",
    "puna\n",
    "'''\n",
    "str3"
   ]
  },
  {
   "cell_type": "code",
   "execution_count": 41,
   "id": "e7f1ff6a-7669-49be-ad8e-fe7dee0936ae",
   "metadata": {},
   "outputs": [],
   "source": [
    "#individual chractar in string"
   ]
  },
  {
   "cell_type": "code",
   "execution_count": 42,
   "id": "e2ded768-7172-43ea-9c7b-2f2de99020a3",
   "metadata": {},
   "outputs": [
    {
     "data": {
      "text/plain": [
       "'my name is pratik'"
      ]
     },
     "execution_count": 42,
     "metadata": {},
     "output_type": "execute_result"
    }
   ],
   "source": [
    "mystring = \"my name is pratik\"\n",
    "mystring"
   ]
  },
  {
   "cell_type": "code",
   "execution_count": 43,
   "id": "2ffb0768-7ba4-4674-86d7-325ec9867e5d",
   "metadata": {},
   "outputs": [
    {
     "data": {
      "text/plain": [
       "'y'"
      ]
     },
     "execution_count": 43,
     "metadata": {},
     "output_type": "execute_result"
    }
   ],
   "source": [
    "mystring[1]"
   ]
  },
  {
   "cell_type": "code",
   "execution_count": 44,
   "id": "b4708377-08e3-4f1a-b4ee-25bf6a60f49c",
   "metadata": {},
   "outputs": [
    {
     "data": {
      "text/plain": [
       "'r'"
      ]
     },
     "execution_count": 44,
     "metadata": {},
     "output_type": "execute_result"
    }
   ],
   "source": [
    "mystring[-5]"
   ]
  },
  {
   "cell_type": "code",
   "execution_count": 45,
   "id": "c9f34dc6-95fd-4ed0-9cac-31583d3adcc4",
   "metadata": {},
   "outputs": [],
   "source": [
    "#string function "
   ]
  },
  {
   "cell_type": "code",
   "execution_count": 46,
   "id": "3f0bd809-eacf-4c3f-8ba0-8ea62aa9bf66",
   "metadata": {},
   "outputs": [
    {
     "data": {
      "text/plain": [
       "17"
      ]
     },
     "execution_count": 46,
     "metadata": {},
     "output_type": "execute_result"
    }
   ],
   "source": [
    "len(mystring)"
   ]
  },
  {
   "cell_type": "code",
   "execution_count": 47,
   "id": "7bd83994-c38e-46c4-82f8-e5b1eaf7d0b3",
   "metadata": {},
   "outputs": [
    {
     "data": {
      "text/plain": [
       "'my name is pratik'"
      ]
     },
     "execution_count": 47,
     "metadata": {},
     "output_type": "execute_result"
    }
   ],
   "source": [
    "mystring.lower()"
   ]
  },
  {
   "cell_type": "code",
   "execution_count": 48,
   "id": "1ad0dc86-8044-406b-9d3a-606615f96985",
   "metadata": {},
   "outputs": [
    {
     "data": {
      "text/plain": [
       "'MY NAME IS PRATIK'"
      ]
     },
     "execution_count": 48,
     "metadata": {},
     "output_type": "execute_result"
    }
   ],
   "source": [
    "mystring.upper()"
   ]
  },
  {
   "cell_type": "code",
   "execution_count": 49,
   "id": "8dd160d9-3a46-470a-aacf-3d2a3ec28bcf",
   "metadata": {},
   "outputs": [
    {
     "data": {
      "text/plain": [
       "'my name is rratik'"
      ]
     },
     "execution_count": 49,
     "metadata": {},
     "output_type": "execute_result"
    }
   ],
   "source": [
    "mystring.replace('p','r')"
   ]
  },
  {
   "cell_type": "code",
   "execution_count": 106,
   "id": "b8bc3407-ca68-4dae-ab49-67ee6791195b",
   "metadata": {},
   "outputs": [],
   "source": [
    "newstring = ('Pratik ritik Pratik')\n"
   ]
  },
  {
   "cell_type": "code",
   "execution_count": 108,
   "id": "6cabe8e7-425b-4dbc-9ad1-ec95f95623cf",
   "metadata": {},
   "outputs": [
    {
     "data": {
      "text/plain": [
       "'Pratik ritik Pratik'"
      ]
     },
     "execution_count": 108,
     "metadata": {},
     "output_type": "execute_result"
    }
   ],
   "source": [
    "newstring"
   ]
  },
  {
   "cell_type": "code",
   "execution_count": 112,
   "id": "7f55582b-19dc-4137-a3e8-506900b8c9c2",
   "metadata": {},
   "outputs": [
    {
     "data": {
      "text/plain": [
       "2"
      ]
     },
     "execution_count": 112,
     "metadata": {},
     "output_type": "execute_result"
    }
   ],
   "source": [
    "newstring.count('Pratik')"
   ]
  },
  {
   "cell_type": "code",
   "execution_count": 114,
   "id": "94317696-339c-458a-b54c-8f3fe334074e",
   "metadata": {},
   "outputs": [],
   "source": [
    "p1 = 'this is house'"
   ]
  },
  {
   "cell_type": "code",
   "execution_count": 118,
   "id": "ce9ed28a-91e0-417d-9465-cc71c8817c3f",
   "metadata": {},
   "outputs": [
    {
     "data": {
      "text/plain": [
       "8"
      ]
     },
     "execution_count": 118,
     "metadata": {},
     "output_type": "execute_result"
    }
   ],
   "source": [
    "p1.find('house')"
   ]
  },
  {
   "cell_type": "code",
   "execution_count": 120,
   "id": "c430e3ff-b71d-40a8-be2a-a9a0e830180a",
   "metadata": {},
   "outputs": [],
   "source": [
    "p2 ='i like apple,banana,garpes,'"
   ]
  },
  {
   "cell_type": "code",
   "execution_count": 128,
   "id": "724d99ce-6e04-4187-960e-d3bce1bc93d8",
   "metadata": {},
   "outputs": [
    {
     "data": {
      "text/plain": [
       "['i like apple', 'banana', 'garpes', '']"
      ]
     },
     "execution_count": 128,
     "metadata": {},
     "output_type": "execute_result"
    }
   ],
   "source": [
    "p2.split(',')"
   ]
  },
  {
   "cell_type": "code",
   "execution_count": 130,
   "id": "450bc2a4-8f9d-45ab-a765-0529e9478271",
   "metadata": {},
   "outputs": [],
   "source": [
    "#list"
   ]
  },
  {
   "cell_type": "code",
   "execution_count": 132,
   "id": "8630aff5-6791-4014-a9ed-fc55731c0b56",
   "metadata": {},
   "outputs": [],
   "source": [
    "l1 = [1,\"a\",True]"
   ]
  },
  {
   "cell_type": "code",
   "execution_count": 134,
   "id": "f0456f97-1309-4d6e-a5c4-486cf1cd84c3",
   "metadata": {},
   "outputs": [
    {
     "data": {
      "text/plain": [
       "[1, 'a', True]"
      ]
     },
     "execution_count": 134,
     "metadata": {},
     "output_type": "execute_result"
    }
   ],
   "source": [
    "l1"
   ]
  },
  {
   "cell_type": "code",
   "execution_count": 136,
   "id": "c672136f-ac96-4749-99b0-af4779d2d80f",
   "metadata": {},
   "outputs": [
    {
     "data": {
      "text/plain": [
       "list"
      ]
     },
     "execution_count": 136,
     "metadata": {},
     "output_type": "execute_result"
    }
   ],
   "source": [
    "type(l1)"
   ]
  },
  {
   "cell_type": "code",
   "execution_count": 140,
   "id": "6a1517c1-4b40-4248-a451-5815ad9ae2b5",
   "metadata": {},
   "outputs": [
    {
     "data": {
      "text/plain": [
       "'a'"
      ]
     },
     "execution_count": 140,
     "metadata": {},
     "output_type": "execute_result"
    }
   ],
   "source": [
    "l1[1]"
   ]
  },
  {
   "cell_type": "code",
   "execution_count": 142,
   "id": "b0a3ff9d-d640-4a56-96dc-a46fc7e66bc2",
   "metadata": {},
   "outputs": [
    {
     "data": {
      "text/plain": [
       "True"
      ]
     },
     "execution_count": 142,
     "metadata": {},
     "output_type": "execute_result"
    }
   ],
   "source": [
    "l1[-1]"
   ]
  },
  {
   "cell_type": "code",
   "execution_count": 144,
   "id": "f648baec-a458-4d5e-abde-6da152c3522f",
   "metadata": {},
   "outputs": [],
   "source": [
    "#modifying list"
   ]
  },
  {
   "cell_type": "code",
   "execution_count": 146,
   "id": "de777f07-8703-41f7-9b33-7410699a46bd",
   "metadata": {},
   "outputs": [
    {
     "data": {
      "text/plain": [
       "[1, 'a', True]"
      ]
     },
     "execution_count": 146,
     "metadata": {},
     "output_type": "execute_result"
    }
   ],
   "source": [
    "l1"
   ]
  },
  {
   "cell_type": "code",
   "execution_count": 148,
   "id": "23f70fb0-974e-4f73-b289-c554f75e6524",
   "metadata": {},
   "outputs": [],
   "source": [
    "l1[0] = 50"
   ]
  },
  {
   "cell_type": "code",
   "execution_count": 150,
   "id": "be6fe5ca-25db-42af-bb56-ff3f77f9830c",
   "metadata": {},
   "outputs": [
    {
     "data": {
      "text/plain": [
       "[50, 'a', True]"
      ]
     },
     "execution_count": 150,
     "metadata": {},
     "output_type": "execute_result"
    }
   ],
   "source": [
    "l1"
   ]
  },
  {
   "cell_type": "code",
   "execution_count": 152,
   "id": "9d8ce5c0-c149-4623-8a57-186d593fdabd",
   "metadata": {},
   "outputs": [
    {
     "data": {
      "text/plain": [
       "[50, 'a', True, 'python']"
      ]
     },
     "execution_count": 152,
     "metadata": {},
     "output_type": "execute_result"
    }
   ],
   "source": [
    "l1.append('python')\n",
    "l1"
   ]
  },
  {
   "cell_type": "code",
   "execution_count": 154,
   "id": "9537c02c-4781-4d7e-9ffc-55441aede346",
   "metadata": {},
   "outputs": [
    {
     "data": {
      "text/plain": [
       "<function list.pop(index=-1, /)>"
      ]
     },
     "execution_count": 154,
     "metadata": {},
     "output_type": "execute_result"
    }
   ],
   "source": [
    "l1.pop"
   ]
  },
  {
   "cell_type": "code",
   "execution_count": 160,
   "id": "6a987044-35ff-4097-a771-aa960d159138",
   "metadata": {},
   "outputs": [
    {
     "data": {
      "text/plain": [
       "[50, 'a', True, 'python']"
      ]
     },
     "execution_count": 160,
     "metadata": {},
     "output_type": "execute_result"
    }
   ],
   "source": [
    "l1.reverse()\n",
    "l1"
   ]
  },
  {
   "cell_type": "code",
   "execution_count": 162,
   "id": "f52dcbbb-2f0d-4c87-865f-1ab2f0c1b919",
   "metadata": {},
   "outputs": [
    {
     "data": {
      "text/plain": [
       "['python', True, 'a', 50]"
      ]
     },
     "execution_count": 162,
     "metadata": {},
     "output_type": "execute_result"
    }
   ],
   "source": [
    "l1.reverse()\n",
    "l1"
   ]
  },
  {
   "cell_type": "code",
   "execution_count": 168,
   "id": "8c03db3c-2bbf-45d1-8ed1-a2babcf59686",
   "metadata": {},
   "outputs": [],
   "source": [
    "l1.insert(1,\"space\")"
   ]
  },
  {
   "cell_type": "code",
   "execution_count": 170,
   "id": "b1781bb5-0ea4-40a0-a388-034fa3db3858",
   "metadata": {},
   "outputs": [
    {
     "data": {
      "text/plain": [
       "['python', 'space', True, 'a', 50]"
      ]
     },
     "execution_count": 170,
     "metadata": {},
     "output_type": "execute_result"
    }
   ],
   "source": [
    "l1"
   ]
  },
  {
   "cell_type": "code",
   "execution_count": 172,
   "id": "66deb3a8-c1b6-4745-b33f-c51a5f008633",
   "metadata": {},
   "outputs": [
    {
     "data": {
      "text/plain": [
       "<function list.sort(*, key=None, reverse=False)>"
      ]
     },
     "execution_count": 172,
     "metadata": {},
     "output_type": "execute_result"
    }
   ],
   "source": [
    "l1.sort"
   ]
  },
  {
   "cell_type": "code",
   "execution_count": 174,
   "id": "76a8c4b6-9060-4736-b799-f89175996650",
   "metadata": {},
   "outputs": [
    {
     "data": {
      "text/plain": [
       "['python', 'space', True, 'a', 50]"
      ]
     },
     "execution_count": 174,
     "metadata": {},
     "output_type": "execute_result"
    }
   ],
   "source": [
    "l1"
   ]
  },
  {
   "cell_type": "code",
   "execution_count": 176,
   "id": "d1e1e8d0-61f6-44c2-8659-00a74745e0f5",
   "metadata": {},
   "outputs": [],
   "source": [
    "#basic operation in list"
   ]
  },
  {
   "cell_type": "code",
   "execution_count": 178,
   "id": "02c3ee3e-4bca-445a-a64f-67224441589b",
   "metadata": {},
   "outputs": [],
   "source": [
    "l1 = [1,2,3]"
   ]
  },
  {
   "cell_type": "code",
   "execution_count": 180,
   "id": "433fc75f-2021-4477-b872-8f8dec3c4798",
   "metadata": {},
   "outputs": [],
   "source": [
    "l2 = ['a','b','c']"
   ]
  },
  {
   "cell_type": "code",
   "execution_count": 182,
   "id": "446a3b97-042a-4ddf-8c23-fe8ad38ebb84",
   "metadata": {},
   "outputs": [
    {
     "data": {
      "text/plain": [
       "[1, 2, 3, 'a', 'b', 'c']"
      ]
     },
     "execution_count": 182,
     "metadata": {},
     "output_type": "execute_result"
    }
   ],
   "source": [
    "l1+l2"
   ]
  },
  {
   "cell_type": "code",
   "execution_count": null,
   "id": "bfb6fed4-d64c-4268-b138-0a8006cf9bfc",
   "metadata": {},
   "outputs": [],
   "source": [
    "#re"
   ]
  }
 ],
 "metadata": {
  "kernelspec": {
   "display_name": "Python 3 (ipykernel)",
   "language": "python",
   "name": "python3"
  },
  "language_info": {
   "codemirror_mode": {
    "name": "ipython",
    "version": 3
   },
   "file_extension": ".py",
   "mimetype": "text/x-python",
   "name": "python",
   "nbconvert_exporter": "python",
   "pygments_lexer": "ipython3",
   "version": "3.11.7"
  }
 },
 "nbformat": 4,
 "nbformat_minor": 5
}
