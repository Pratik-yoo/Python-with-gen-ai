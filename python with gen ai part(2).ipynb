{
 "cells": [
  {
   "cell_type": "code",
   "execution_count": 1,
   "id": "780a7d8f-293b-460b-8933-68260d312e68",
   "metadata": {},
   "outputs": [],
   "source": [
    "#data strutcher tuple"
   ]
  },
  {
   "cell_type": "code",
   "execution_count": 2,
   "id": "f59744f9-f119-4d0f-bc96-8d098496eaee",
   "metadata": {},
   "outputs": [
    {
     "data": {
      "text/plain": [
       "(1, 'a', True)"
      ]
     },
     "execution_count": 2,
     "metadata": {},
     "output_type": "execute_result"
    }
   ],
   "source": [
    "tup1=(1,'a',True)\n",
    "tup1"
   ]
  },
  {
   "cell_type": "code",
   "execution_count": 3,
   "id": "1eebd444-5d69-4543-910c-e2a0dd766fe0",
   "metadata": {},
   "outputs": [
    {
     "data": {
      "text/plain": [
       "tuple"
      ]
     },
     "execution_count": 3,
     "metadata": {},
     "output_type": "execute_result"
    }
   ],
   "source": [
    "type(tup1)"
   ]
  },
  {
   "cell_type": "code",
   "execution_count": 4,
   "id": "6c6fb59a-5c5b-466c-bbbe-3595e0997872",
   "metadata": {},
   "outputs": [
    {
     "data": {
      "text/plain": [
       "(1, 'a', True, 2, 'b', False)"
      ]
     },
     "execution_count": 4,
     "metadata": {},
     "output_type": "execute_result"
    }
   ],
   "source": [
    "tup2=(1,'a',True,2,'b',False)\n",
    "tup2"
   ]
  },
  {
   "cell_type": "code",
   "execution_count": 5,
   "id": "62e28d09-797e-477f-bd93-f02ebab008bb",
   "metadata": {},
   "outputs": [
    {
     "data": {
      "text/plain": [
       "1"
      ]
     },
     "execution_count": 5,
     "metadata": {},
     "output_type": "execute_result"
    }
   ],
   "source": [
    "tup2[0]"
   ]
  },
  {
   "cell_type": "code",
   "execution_count": 6,
   "id": "a8d1e1d8-1aa0-4f05-a760-d03fe8a44048",
   "metadata": {},
   "outputs": [
    {
     "data": {
      "text/plain": [
       "False"
      ]
     },
     "execution_count": 6,
     "metadata": {},
     "output_type": "execute_result"
    }
   ],
   "source": [
    "tup2[-1]"
   ]
  },
  {
   "cell_type": "code",
   "execution_count": 7,
   "id": "1c7aa52b-05a4-4a87-82af-2ba99646edd8",
   "metadata": {},
   "outputs": [
    {
     "data": {
      "text/plain": [
       "('a', True, 2)"
      ]
     },
     "execution_count": 7,
     "metadata": {},
     "output_type": "execute_result"
    }
   ],
   "source": [
    "tup2[1:4]"
   ]
  },
  {
   "cell_type": "code",
   "execution_count": 8,
   "id": "e1c274c9-02cd-4567-9547-aac693ecf794",
   "metadata": {},
   "outputs": [],
   "source": [
    "#modifying tuple"
   ]
  },
  {
   "cell_type": "code",
   "execution_count": 9,
   "id": "f36e3c9a-6f2a-4b04-9003-9addca668e08",
   "metadata": {},
   "outputs": [
    {
     "ename": "TypeError",
     "evalue": "'tuple' object does not support item assignment",
     "output_type": "error",
     "traceback": [
      "\u001b[1;31m---------------------------------------------------------------------------\u001b[0m",
      "\u001b[1;31mTypeError\u001b[0m                                 Traceback (most recent call last)",
      "Cell \u001b[1;32mIn[9], line 1\u001b[0m\n\u001b[1;32m----> 1\u001b[0m tup2[\u001b[38;5;241m3\u001b[39m]\u001b[38;5;241m=\u001b[39m \u001b[38;5;241m30\u001b[39m\n",
      "\u001b[1;31mTypeError\u001b[0m: 'tuple' object does not support item assignment"
     ]
    }
   ],
   "source": [
    "tup2[3]= 30"
   ]
  },
  {
   "cell_type": "code",
   "execution_count": 15,
   "id": "a3de5bb3-9858-4c0a-8387-35ae5ac84696",
   "metadata": {},
   "outputs": [
    {
     "data": {
      "text/plain": [
       "(1, 'a', True, 2, 'b', False)"
      ]
     },
     "execution_count": 15,
     "metadata": {},
     "output_type": "execute_result"
    }
   ],
   "source": [
    "tup2"
   ]
  },
  {
   "cell_type": "code",
   "execution_count": 17,
   "id": "c4687a29-9070-4c58-bb58-6d182e76fb53",
   "metadata": {},
   "outputs": [
    {
     "data": {
      "text/plain": [
       "6"
      ]
     },
     "execution_count": 17,
     "metadata": {},
     "output_type": "execute_result"
    }
   ],
   "source": [
    "len(tup2)"
   ]
  },
  {
   "cell_type": "code",
   "execution_count": 19,
   "id": "76c11a5f-b311-494e-9948-6845df2bf4aa",
   "metadata": {},
   "outputs": [
    {
     "data": {
      "text/plain": [
       "(1, 2, 3, 4, 8, 9)"
      ]
     },
     "execution_count": 19,
     "metadata": {},
     "output_type": "execute_result"
    }
   ],
   "source": [
    "tup1=(1,2,3)\n",
    "tup2=(4,8,9)\n",
    "tup1+tup2"
   ]
  },
  {
   "cell_type": "code",
   "execution_count": 21,
   "id": "4e47de8e-bc47-4bce-b415-65a1cd5ecaca",
   "metadata": {},
   "outputs": [
    {
     "data": {
      "text/plain": [
       "(4, 8, 9, 1, 2, 3)"
      ]
     },
     "execution_count": 21,
     "metadata": {},
     "output_type": "execute_result"
    }
   ],
   "source": [
    "tup2+tup1"
   ]
  },
  {
   "cell_type": "code",
   "execution_count": 23,
   "id": "67158a08-05dd-4842-b0e0-61bc161255f7",
   "metadata": {},
   "outputs": [],
   "source": [
    "#repeating tupleA"
   ]
  },
  {
   "cell_type": "code",
   "execution_count": 25,
   "id": "57a8e848-1df0-44ba-9855-01ace535b46e",
   "metadata": {},
   "outputs": [
    {
     "data": {
      "text/plain": [
       "(1, 2, 3, 1, 2, 3, 1, 2, 3, 1, 2, 3, 1, 2, 3)"
      ]
     },
     "execution_count": 25,
     "metadata": {},
     "output_type": "execute_result"
    }
   ],
   "source": [
    "tup1*5"
   ]
  },
  {
   "cell_type": "code",
   "execution_count": 27,
   "id": "44c15945-1b76-48e1-b1c8-7b17a6b5199c",
   "metadata": {},
   "outputs": [],
   "source": [
    "#repeating and concading tuple"
   ]
  },
  {
   "cell_type": "code",
   "execution_count": 29,
   "id": "cbcc49bf-ef13-44a2-80d0-60b7209ca3b1",
   "metadata": {},
   "outputs": [
    {
     "data": {
      "text/plain": [
       "(1,\n",
       " 2,\n",
       " 3,\n",
       " 1,\n",
       " 2,\n",
       " 3,\n",
       " 1,\n",
       " 2,\n",
       " 3,\n",
       " 1,\n",
       " 2,\n",
       " 3,\n",
       " 1,\n",
       " 2,\n",
       " 3,\n",
       " 1,\n",
       " 2,\n",
       " 3,\n",
       " 1,\n",
       " 2,\n",
       " 3,\n",
       " 1,\n",
       " 2,\n",
       " 3,\n",
       " 4,\n",
       " 8,\n",
       " 9)"
      ]
     },
     "execution_count": 29,
     "metadata": {},
     "output_type": "execute_result"
    }
   ],
   "source": [
    "tup1*8 + tup2"
   ]
  },
  {
   "cell_type": "code",
   "execution_count": 31,
   "id": "535ac3f2-84f6-4ee9-a38c-2a095c7a66ec",
   "metadata": {},
   "outputs": [],
   "source": [
    "#minimum value"
   ]
  },
  {
   "cell_type": "code",
   "execution_count": 33,
   "id": "310b1d66-51b5-466e-bba0-c84e16ac18d6",
   "metadata": {},
   "outputs": [
    {
     "data": {
      "text/plain": [
       "1"
      ]
     },
     "execution_count": 33,
     "metadata": {},
     "output_type": "execute_result"
    }
   ],
   "source": [
    "min(tup1)"
   ]
  },
  {
   "cell_type": "code",
   "execution_count": 35,
   "id": "cf4c3a60-f6c1-4bb0-bc96-ea1672dad25e",
   "metadata": {},
   "outputs": [],
   "source": [
    "#maxmimom value"
   ]
  },
  {
   "cell_type": "code",
   "execution_count": 37,
   "id": "a46cdbfa-5f58-40f9-991a-dca2e8b5c14b",
   "metadata": {},
   "outputs": [
    {
     "data": {
      "text/plain": [
       "3"
      ]
     },
     "execution_count": 37,
     "metadata": {},
     "output_type": "execute_result"
    }
   ],
   "source": [
    "max(tup1)"
   ]
  },
  {
   "cell_type": "code",
   "execution_count": 39,
   "id": "0eb9be3a-7db2-42de-9f20-cd5ef7fea3fc",
   "metadata": {},
   "outputs": [],
   "source": [
    "#dictionary"
   ]
  },
  {
   "cell_type": "code",
   "execution_count": 43,
   "id": "e7e85935-78d8-4aad-b25f-4802c4be13fc",
   "metadata": {},
   "outputs": [],
   "source": [
    "item = {\"mango\":60,\"banana\":90}"
   ]
  },
  {
   "cell_type": "raw",
   "id": "99e67321-6e3c-4182-997c-1f4554a6c2f7",
   "metadata": {},
   "source": [
    "item"
   ]
  },
  {
   "cell_type": "code",
   "execution_count": 45,
   "id": "5ef551d4-5a4c-4a43-9fba-4b2d26a486c0",
   "metadata": {},
   "outputs": [
    {
     "data": {
      "text/plain": [
       "dict"
      ]
     },
     "execution_count": 45,
     "metadata": {},
     "output_type": "execute_result"
    }
   ],
   "source": [
    "type(item)"
   ]
  },
  {
   "cell_type": "code",
   "execution_count": 47,
   "id": "4e5ee6a4-dc28-4795-92e7-9be28f74e845",
   "metadata": {},
   "outputs": [],
   "source": [
    "#Extrating Keys"
   ]
  },
  {
   "cell_type": "code",
   "execution_count": 51,
   "id": "5c2bc280-1db4-4484-9620-11a6c62832bf",
   "metadata": {},
   "outputs": [
    {
     "data": {
      "text/plain": [
       "dict_keys(['mango', 'banana'])"
      ]
     },
     "execution_count": 51,
     "metadata": {},
     "output_type": "execute_result"
    }
   ],
   "source": [
    "item.keys()"
   ]
  },
  {
   "cell_type": "code",
   "execution_count": 53,
   "id": "fd39c60c-844b-4851-a6ad-a219dfa4cf1d",
   "metadata": {},
   "outputs": [
    {
     "data": {
      "text/plain": [
       "dict_values([60, 90])"
      ]
     },
     "execution_count": 53,
     "metadata": {},
     "output_type": "execute_result"
    }
   ],
   "source": [
    "item.values()"
   ]
  },
  {
   "cell_type": "code",
   "execution_count": 59,
   "id": "e6194f21-5821-44c0-bef8-9925870abc94",
   "metadata": {},
   "outputs": [],
   "source": [
    "#adding value"
   ]
  },
  {
   "cell_type": "code",
   "execution_count": 55,
   "id": "c9cc961b-8129-4e3f-aa2f-9353b65f06b2",
   "metadata": {},
   "outputs": [],
   "source": [
    "item[\"apple\"]=20"
   ]
  },
  {
   "cell_type": "code",
   "execution_count": 57,
   "id": "1032f46c-12b4-4de1-af4c-9002baf4bc1c",
   "metadata": {},
   "outputs": [
    {
     "data": {
      "text/plain": [
       "{'mango': 60, 'banana': 90, 'apple': 20}"
      ]
     },
     "execution_count": 57,
     "metadata": {},
     "output_type": "execute_result"
    }
   ],
   "source": [
    "item"
   ]
  },
  {
   "cell_type": "code",
   "execution_count": 74,
   "id": "b96740c3-1662-4ffa-a5b7-3aa60e47a13c",
   "metadata": {},
   "outputs": [],
   "source": [
    "#update element with anather"
   ]
  },
  {
   "cell_type": "code",
   "execution_count": 63,
   "id": "3723d284-452a-4a68-9ac0-39d0d4459366",
   "metadata": {},
   "outputs": [
    {
     "data": {
      "text/plain": [
       "{'mango': 60, 'banana': 90, 'apple': 20}"
      ]
     },
     "execution_count": 63,
     "metadata": {},
     "output_type": "execute_result"
    }
   ],
   "source": [
    "item"
   ]
  },
  {
   "cell_type": "code",
   "execution_count": 70,
   "id": "87a26b2f-13e9-49b4-af55-02bba537853f",
   "metadata": {},
   "outputs": [],
   "source": [
    "item1={\"mango\": 60, \"banana\": 90, \"apple\": 20}\n",
    "item2={\"lichi\":80}"
   ]
  },
  {
   "cell_type": "code",
   "execution_count": 72,
   "id": "2433e00f-0aa6-46de-b54e-8a494a9a7930",
   "metadata": {},
   "outputs": [
    {
     "data": {
      "text/plain": [
       "({'mango': 60, 'banana': 90, 'apple': 20}, {'lichi': 80})"
      ]
     },
     "execution_count": 72,
     "metadata": {},
     "output_type": "execute_result"
    }
   ],
   "source": [
    "item1,item2"
   ]
  },
  {
   "cell_type": "code",
   "execution_count": 80,
   "id": "7b18c4db-653a-48a9-ab7f-ead6a8bb0fe4",
   "metadata": {},
   "outputs": [],
   "source": [
    "item1.update(item2)"
   ]
  },
  {
   "cell_type": "code",
   "execution_count": 82,
   "id": "e70e0c25-5468-46a1-b9af-d863fbfb8052",
   "metadata": {},
   "outputs": [
    {
     "data": {
      "text/plain": [
       "{'mango': 60, 'banana': 90, 'apple': 20, 'lichi': 80}"
      ]
     },
     "execution_count": 82,
     "metadata": {},
     "output_type": "execute_result"
    }
   ],
   "source": [
    "item1"
   ]
  },
  {
   "cell_type": "code",
   "execution_count": 78,
   "id": "d5b5bf0e-dd17-4b78-94cd-f93061843132",
   "metadata": {},
   "outputs": [],
   "source": [
    "#popping an element "
   ]
  },
  {
   "cell_type": "code",
   "execution_count": 84,
   "id": "4ed37f6e-dfd2-4ed9-9784-d9306e8c58fb",
   "metadata": {},
   "outputs": [
    {
     "data": {
      "text/plain": [
       "20"
      ]
     },
     "execution_count": 84,
     "metadata": {},
     "output_type": "execute_result"
    }
   ],
   "source": [
    "item1.pop(\"apple\")"
   ]
  },
  {
   "cell_type": "code",
   "execution_count": 86,
   "id": "9bd1cdd6-9aa4-4d1d-bf47-42cd9910fb56",
   "metadata": {},
   "outputs": [],
   "source": [
    "#set"
   ]
  },
  {
   "cell_type": "code",
   "execution_count": 88,
   "id": "53a31617-878e-45b2-b3ba-cffcae294f9b",
   "metadata": {},
   "outputs": [],
   "source": [
    "s1= {1,\"a\",True,6,\"f\",False}"
   ]
  },
  {
   "cell_type": "code",
   "execution_count": 90,
   "id": "5f362cc8-43a9-4211-9856-de308e17b7c3",
   "metadata": {},
   "outputs": [],
   "source": [
    "s1.add(\"pratik.pk\")"
   ]
  },
  {
   "cell_type": "code",
   "execution_count": 92,
   "id": "8c5cbc70-604f-4f4a-9d53-67ed18bcc5f4",
   "metadata": {},
   "outputs": [
    {
     "data": {
      "text/plain": [
       "{1, 6, False, 'a', 'f', 'pratik.pk'}"
      ]
     },
     "execution_count": 92,
     "metadata": {},
     "output_type": "execute_result"
    }
   ],
   "source": [
    "s1"
   ]
  },
  {
   "cell_type": "code",
   "execution_count": 104,
   "id": "ae49e3b4-1f73-42c2-8bf6-9b8a94a850f6",
   "metadata": {},
   "outputs": [],
   "source": [
    "s1.update([12,60,36])"
   ]
  },
  {
   "cell_type": "code",
   "execution_count": 96,
   "id": "7b8c4fa8-7574-439c-b799-23dd46786b6a",
   "metadata": {},
   "outputs": [],
   "source": [
    "s1.remove(\"a\")"
   ]
  },
  {
   "cell_type": "code",
   "execution_count": 106,
   "id": "72c880b7-ada8-41e2-90f4-93f2ec863dd4",
   "metadata": {},
   "outputs": [
    {
     "data": {
      "text/plain": [
       "{1, 12, 36, 6, 60, False, 'f', 'pratik.pk'}"
      ]
     },
     "execution_count": 106,
     "metadata": {},
     "output_type": "execute_result"
    }
   ],
   "source": [
    "s1"
   ]
  },
  {
   "cell_type": "code",
   "execution_count": 108,
   "id": "fc1bd53b-6756-4147-9c5a-f35efbf542b4",
   "metadata": {},
   "outputs": [
    {
     "data": {
      "text/plain": [
       "{1, 12, 36, 6, 60, False, 'f', 'pratik.pk'}"
      ]
     },
     "execution_count": 108,
     "metadata": {},
     "output_type": "execute_result"
    }
   ],
   "source": [
    "s1"
   ]
  },
  {
   "cell_type": "code",
   "execution_count": 114,
   "id": "4b64956f-8982-40b2-8b3c-da83961a6252",
   "metadata": {},
   "outputs": [],
   "source": [
    "#union of two set"
   ]
  },
  {
   "cell_type": "code",
   "execution_count": 116,
   "id": "914473cc-01a4-41db-8d96-d4d4e8faa2a7",
   "metadata": {},
   "outputs": [
    {
     "data": {
      "text/plain": [
       "{1, 2, 3, 'a', 'b', 'c'}"
      ]
     },
     "execution_count": 116,
     "metadata": {},
     "output_type": "execute_result"
    }
   ],
   "source": [
    "s1={1,2,3}\n",
    "s2={\"a\",\"b\",\"c\"}\n",
    "s1.union(s2)"
   ]
  },
  {
   "cell_type": "code",
   "execution_count": 112,
   "id": "91f66a3f-cd1c-49e4-9356-0c5a3f651637",
   "metadata": {},
   "outputs": [],
   "source": [
    "#intersection of two set"
   ]
  },
  {
   "cell_type": "code",
   "execution_count": 128,
   "id": "31c22e35-91ce-46a5-879c-d78900a71995",
   "metadata": {},
   "outputs": [
    {
     "data": {
      "text/plain": [
       "{3}"
      ]
     },
     "execution_count": 128,
     "metadata": {},
     "output_type": "execute_result"
    }
   ],
   "source": [
    "s1={1,2,3}\n",
    "s2={5,85,8,9,3}\n",
    "\n",
    "s1.intersection(s2)"
   ]
  },
  {
   "cell_type": "code",
   "execution_count": null,
   "id": "9fcbef78-6c57-4dcc-81e7-fb774666e4d0",
   "metadata": {},
   "outputs": [],
   "source": [
    " "
   ]
  }
 ],
 "metadata": {
  "kernelspec": {
   "display_name": "Python 3 (ipykernel)",
   "language": "python",
   "name": "python3"
  },
  "language_info": {
   "codemirror_mode": {
    "name": "ipython",
    "version": 3
   },
   "file_extension": ".py",
   "mimetype": "text/x-python",
   "name": "python",
   "nbconvert_exporter": "python",
   "pygments_lexer": "ipython3",
   "version": "3.11.7"
  }
 },
 "nbformat": 4,
 "nbformat_minor": 5
}
