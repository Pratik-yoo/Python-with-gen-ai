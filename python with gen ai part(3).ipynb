{
 "cells": [
  {
   "cell_type": "code",
   "execution_count": 1,
   "id": "f5842bb3-71fb-4ce9-bd09-33c483ee30d2",
   "metadata": {},
   "outputs": [],
   "source": [
    "#if statment"
   ]
  },
  {
   "cell_type": "code",
   "execution_count": 3,
   "id": "a6ff49b9-7c76-48ce-b71f-14c1aa91a6c3",
   "metadata": {},
   "outputs": [],
   "source": [
    " a = 10\n",
    "b = 20"
   ]
  },
  {
   "cell_type": "code",
   "execution_count": 7,
   "id": "9e5e829d-2a7c-4ad7-ae71-bfef18afbade",
   "metadata": {},
   "outputs": [
    {
     "name": "stdout",
     "output_type": "stream",
     "text": [
      "b is grater than a\n"
     ]
    }
   ],
   "source": [
    "if b>a:\n",
    "    print(\"b is grater than a\")"
   ]
  },
  {
   "cell_type": "code",
   "execution_count": 11,
   "id": "66f90bed-2883-4bc8-9e58-1707b80206e5",
   "metadata": {},
   "outputs": [],
   "source": [
    "if a>b:\n",
    "    print(\"a is grater than b\")"
   ]
  },
  {
   "cell_type": "code",
   "execution_count": 13,
   "id": "e2740f39-5d90-4e3b-bc65-8a378b7b6cd1",
   "metadata": {},
   "outputs": [
    {
     "data": {
      "text/plain": [
       "False"
      ]
     },
     "execution_count": 13,
     "metadata": {},
     "output_type": "execute_result"
    }
   ],
   "source": [
    "a>b"
   ]
  },
  {
   "cell_type": "code",
   "execution_count": 15,
   "id": "eb7e23d5-b66e-474c-a6de-823c43f0cb92",
   "metadata": {},
   "outputs": [
    {
     "name": "stdout",
     "output_type": "stream",
     "text": [
      "b is grater than a\n"
     ]
    }
   ],
   "source": [
    "if b>a:\n",
    "    print(\"b is grater than a\")\n",
    "else:\n",
    "    print(\"a is grater than b\")"
   ]
  },
  {
   "cell_type": "code",
   "execution_count": 17,
   "id": "76535aa7-9cce-45c9-a8a5-4716a2bc0064",
   "metadata": {},
   "outputs": [],
   "source": [
    "#elif"
   ]
  },
  {
   "cell_type": "code",
   "execution_count": 19,
   "id": "a3796aef-d89e-4447-96f6-06486de8bfba",
   "metadata": {},
   "outputs": [],
   "source": [
    "a=10\n",
    "b=60\n",
    "c=90"
   ]
  },
  {
   "cell_type": "code",
   "execution_count": 25,
   "id": "2775e38c-d680-4665-b79d-64bb1db6a1f0",
   "metadata": {},
   "outputs": [
    {
     "name": "stdout",
     "output_type": "stream",
     "text": [
      "c is the gretest\n"
     ]
    }
   ],
   "source": [
    "if (a>b)&(a>c):\n",
    "    print(\"a is the gretest\")\n",
    "elif (b>a)&(b>c):\n",
    "    print(\"b is thhe gretest\")\n",
    "else :\n",
    "    print(\"c is the gretest\")"
   ]
  },
  {
   "cell_type": "code",
   "execution_count": 27,
   "id": "0ed142f7-d13a-4772-90f7-fbb6842f6968",
   "metadata": {},
   "outputs": [],
   "source": [
    "#tuple with if"
   ]
  },
  {
   "cell_type": "code",
   "execution_count": 29,
   "id": "016cb2d8-e7c3-4008-849f-fbbf7d0883ad",
   "metadata": {},
   "outputs": [],
   "source": [
    "tup1=(\"a\",\"b\",\"c\",\"d\")"
   ]
  },
  {
   "cell_type": "code",
   "execution_count": 33,
   "id": "a00891ee-29f8-4893-a7c5-276520a0d833",
   "metadata": {},
   "outputs": [
    {
     "name": "stdout",
     "output_type": "stream",
     "text": [
      "a is presentin tup1\n"
     ]
    }
   ],
   "source": [
    "if \"a\" in tup1:\n",
    "    print(\"a is presentin tup1\")"
   ]
  },
  {
   "cell_type": "code",
   "execution_count": 35,
   "id": "2a38ccac-8add-4405-91b0-ba64857e02aa",
   "metadata": {},
   "outputs": [],
   "source": [
    "#list with if"
   ]
  },
  {
   "cell_type": "code",
   "execution_count": 39,
   "id": "ffc90daa-ab14-4a6c-8bb4-4176bd341e88",
   "metadata": {},
   "outputs": [],
   "source": [
    "l1=[\"a\",\"b\",\"c\",\"d\"]"
   ]
  },
  {
   "cell_type": "code",
   "execution_count": 41,
   "id": "160f5595-0001-47c6-94e1-0cf4b852e724",
   "metadata": {},
   "outputs": [],
   "source": [
    "if l1[0]==\"a\":\n",
    "    l1[0]=90"
   ]
  },
  {
   "cell_type": "code",
   "execution_count": 43,
   "id": "d899f7fd-c2a8-412b-9124-e1dac8c513c8",
   "metadata": {},
   "outputs": [
    {
     "data": {
      "text/plain": [
       "[90, 'b', 'c', 'd']"
      ]
     },
     "execution_count": 43,
     "metadata": {},
     "output_type": "execute_result"
    }
   ],
   "source": [
    "l1"
   ]
  },
  {
   "cell_type": "code",
   "execution_count": 45,
   "id": "96af422d-f6dc-442b-ac20-b36ea7af3d95",
   "metadata": {},
   "outputs": [],
   "source": [
    "#dixtionary with if"
   ]
  },
  {
   "cell_type": "code",
   "execution_count": 47,
   "id": "236366f2-38fd-40b0-93d3-e3cde9f9f08a",
   "metadata": {},
   "outputs": [
    {
     "data": {
      "text/plain": [
       "{'p1': 15, 'p2': 87, 'p3': 52, 'p4': 41}"
      ]
     },
     "execution_count": 47,
     "metadata": {},
     "output_type": "execute_result"
    }
   ],
   "source": [
    "d1={\"p1\":15,\"p2\":87,\"p3\":52,\"p4\":41}\n",
    "d1"
   ]
  },
  {
   "cell_type": "code",
   "execution_count": 49,
   "id": "1a508abe-2700-4a87-9d88-31252610cbb4",
   "metadata": {},
   "outputs": [],
   "source": [
    "if d1[\"p1\"]==15:\n",
    "    d1[\"p1\"]=d1[\"p1\"]=500"
   ]
  },
  {
   "cell_type": "code",
   "execution_count": 51,
   "id": "5f82b7fa-dd2f-426f-9c12-382b465d993d",
   "metadata": {},
   "outputs": [
    {
     "data": {
      "text/plain": [
       "{'p1': 500, 'p2': 87, 'p3': 52, 'p4': 41}"
      ]
     },
     "execution_count": 51,
     "metadata": {},
     "output_type": "execute_result"
    }
   ],
   "source": [
    "d1"
   ]
  },
  {
   "cell_type": "code",
   "execution_count": 53,
   "id": "dee93e20-c751-4a94-aeaa-069f5cedd392",
   "metadata": {},
   "outputs": [],
   "source": [
    "#loping statment"
   ]
  },
  {
   "cell_type": "code",
   "execution_count": 55,
   "id": "1403956e-f9a5-418c-9e25-b4c4678304c9",
   "metadata": {},
   "outputs": [],
   "source": [
    "f1= [\"apple\",\"mango\",\"banana\"]"
   ]
  },
  {
   "cell_type": "code",
   "execution_count": 57,
   "id": "b97e3a3e-ac0e-4084-8a28-f65eff545e4c",
   "metadata": {},
   "outputs": [
    {
     "name": "stdout",
     "output_type": "stream",
     "text": [
      "apple\n",
      "mango\n",
      "banana\n"
     ]
    }
   ],
   "source": [
    "for i in f1:\n",
    "    print(i)"
   ]
  },
  {
   "cell_type": "code",
   "execution_count": 59,
   "id": "90c1e75b-a354-44a5-b155-5b76b41a70d5",
   "metadata": {},
   "outputs": [],
   "source": [
    "#nested for loop"
   ]
  },
  {
   "cell_type": "code",
   "execution_count": 61,
   "id": "9e36a697-2663-4669-911d-440e625d0047",
   "metadata": {},
   "outputs": [],
   "source": [
    "c1=[\"blue\",\"green\",\"yellow\"]\n",
    "i1=[\"book\",\"boll\",\"tv\"]"
   ]
  },
  {
   "cell_type": "code",
   "execution_count": 63,
   "id": "264f2eba-baaa-430a-8bd5-aba7e4587d72",
   "metadata": {},
   "outputs": [
    {
     "name": "stdout",
     "output_type": "stream",
     "text": [
      "blue book\n",
      "blue boll\n",
      "blue tv\n",
      "green book\n",
      "green boll\n",
      "green tv\n",
      "yellow book\n",
      "yellow boll\n",
      "yellow tv\n"
     ]
    }
   ],
   "source": [
    "for i in c1:\n",
    "    for j in i1:\n",
    "        print(i,j)"
   ]
  },
  {
   "cell_type": "code",
   "execution_count": 65,
   "id": "b1830301-66ec-4a95-b63b-fe31a488d54d",
   "metadata": {},
   "outputs": [],
   "source": [
    "#while loop"
   ]
  },
  {
   "cell_type": "code",
   "execution_count": 69,
   "id": "eb9e0ded-7fd4-4c6c-9ef0-d8d32e365794",
   "metadata": {},
   "outputs": [
    {
     "name": "stdout",
     "output_type": "stream",
     "text": [
      "1\n",
      "2\n",
      "3\n",
      "4\n",
      "5\n",
      "6\n",
      "7\n",
      "8\n",
      "9\n",
      "10\n"
     ]
    }
   ],
   "source": [
    "i=1\n",
    "while i<=10:\n",
    "    print(i)\n",
    "    i=i+1"
   ]
  },
  {
   "cell_type": "code",
   "execution_count": 71,
   "id": "a37f6d17-82c1-4c96-921e-e8d223969d6d",
   "metadata": {},
   "outputs": [],
   "source": [
    "#tupple with whilw loop"
   ]
  },
  {
   "cell_type": "code",
   "execution_count": 73,
   "id": "27cad266-3ca0-4bd9-8de4-ea4122165c7c",
   "metadata": {},
   "outputs": [
    {
     "name": "stdout",
     "output_type": "stream",
     "text": [
      "6 * 1 = 6\n",
      "6 * 2 = 12\n",
      "6 * 3 = 18\n",
      "6 * 4 = 24\n",
      "6 * 5 = 30\n",
      "6 * 6 = 36\n",
      "6 * 7 = 42\n",
      "6 * 8 = 48\n",
      "6 * 9 = 54\n",
      "6 * 10 = 60\n"
     ]
    }
   ],
   "source": [
    "i=1\n",
    "n=6\n",
    "while i<=10:\n",
    "    print(n,\"*\",i,\"=\",n*i)\n",
    "    i=i+1"
   ]
  },
  {
   "cell_type": "code",
   "execution_count": 75,
   "id": "15e84c00-0962-4415-b70b-87f41812ff76",
   "metadata": {},
   "outputs": [],
   "source": [
    "#while with list"
   ]
  },
  {
   "cell_type": "code",
   "execution_count": 77,
   "id": "6d187d2d-658c-4caf-9b3b-d27c466765f5",
   "metadata": {},
   "outputs": [
    {
     "data": {
      "text/plain": [
       "[90, 'b', 'c', 'd']"
      ]
     },
     "execution_count": 77,
     "metadata": {},
     "output_type": "execute_result"
    }
   ],
   "source": [
    "l1"
   ]
  },
  {
   "cell_type": "code",
   "execution_count": 79,
   "id": "1f133c7f-1cba-4037-ad59-18b18a4a6ace",
   "metadata": {},
   "outputs": [],
   "source": [
    "l1=[90, 8, 57, 5]"
   ]
  },
  {
   "cell_type": "code",
   "execution_count": 85,
   "id": "4e068a66-fc4b-4e66-a594-0568ac0c4d3e",
   "metadata": {},
   "outputs": [
    {
     "data": {
      "text/plain": [
       "[290, 208, 257, 205]"
      ]
     },
     "execution_count": 85,
     "metadata": {},
     "output_type": "execute_result"
    }
   ],
   "source": [
    "i =0\n",
    "while i<len(l1):\n",
    "    l1[i]=l1[i]+100\n",
    "    i=i+1\n",
    "l1"
   ]
  },
  {
   "cell_type": "code",
   "execution_count": null,
   "id": "3b5d6895-c67c-4a5b-92d3-040717da68fd",
   "metadata": {},
   "outputs": [],
   "source": []
  }
 ],
 "metadata": {
  "kernelspec": {
   "display_name": "Python 3 (ipykernel)",
   "language": "python",
   "name": "python3"
  },
  "language_info": {
   "codemirror_mode": {
    "name": "ipython",
    "version": 3
   },
   "file_extension": ".py",
   "mimetype": "text/x-python",
   "name": "python",
   "nbconvert_exporter": "python",
   "pygments_lexer": "ipython3",
   "version": "3.11.7"
  }
 },
 "nbformat": 4,
 "nbformat_minor": 5
}
