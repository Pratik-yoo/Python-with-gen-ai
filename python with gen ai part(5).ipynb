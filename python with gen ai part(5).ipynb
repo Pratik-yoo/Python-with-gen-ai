{
 "cells": [
  {
   "cell_type": "code",
   "execution_count": 1,
   "id": "bf16fccd-2965-4b24-b247-7891cade2262",
   "metadata": {},
   "outputs": [],
   "source": [
    "#multipul inheritance"
   ]
  },
  {
   "cell_type": "code",
   "execution_count": 2,
   "id": "1f4250da-0816-4b9e-b360-9b0c32e22503",
   "metadata": {},
   "outputs": [
    {
     "name": "stdout",
     "output_type": "stream",
     "text": [
      "one\n",
      "two\n",
      "three\n"
     ]
    }
   ],
   "source": [
    "class Data:\n",
    "    def assign_string_one(self, value):\n",
    "        self.string_one = value\n",
    "\n",
    "    def assign_string_two(self, value):\n",
    "        self.string_two = value\n",
    "\n",
    "    def assign_string_three(self, value):\n",
    "        self.string_three = value\n",
    "\n",
    "# Creating an instance\n",
    "d1 = Data()\n",
    "\n",
    "# Assigning strings\n",
    "d1.assign_string_one(\"one\")\n",
    "d1.assign_string_two(\"two\")\n",
    "d1.assign_string_three(\"three\")\n",
    "\n",
    "# Checking the assigned values\n",
    "print(d1.string_one)   # Output: one\n",
    "print(d1.string_two)   # Output: two\n",
    "print(d1.string_three) # Output: three\n"
   ]
  },
  {
   "cell_type": "code",
   "execution_count": 3,
   "id": "80ba51d5-dec8-4f72-9d59-e0573ab45bc2",
   "metadata": {},
   "outputs": [],
   "source": [
    "#milti-level inheritance"
   ]
  },
  {
   "cell_type": "code",
   "execution_count": 29,
   "id": "91d806ff-34da-42be-b601-452a98e57ef7",
   "metadata": {},
   "outputs": [],
   "source": [
    "#parent class"
   ]
  },
  {
   "cell_type": "code",
   "execution_count": 4,
   "id": "7306f251-4d6a-486d-b477-d6c266e51111",
   "metadata": {},
   "outputs": [],
   "source": [
    "class p1():\n",
    "    def assign_name(self,name):\n",
    "        self.name= name\n",
    "\n",
    "    def show_name(self):\n",
    "        return self.name"
   ]
  },
  {
   "cell_type": "code",
   "execution_count": 31,
   "id": "a9ced493-a019-4504-b111-79fef02019a8",
   "metadata": {},
   "outputs": [],
   "source": [
    "#child class"
   ]
  },
  {
   "cell_type": "code",
   "execution_count": 5,
   "id": "a7a04bea-e16c-4853-9cae-1c130c432251",
   "metadata": {},
   "outputs": [],
   "source": [
    "class C1(p1):\n",
    "    def assign_age(self,age):\n",
    "        self.age = age\n",
    "\n",
    "    def show_age(self):\n",
    "        return self.age"
   ]
  },
  {
   "cell_type": "code",
   "execution_count": 33,
   "id": "b6666cc0-3a23-4249-8558-1e88c61d96ba",
   "metadata": {},
   "outputs": [],
   "source": [
    "#grend child class"
   ]
  },
  {
   "cell_type": "code",
   "execution_count": 6,
   "id": "442e5f79-3032-4638-bea1-4a8633332361",
   "metadata": {},
   "outputs": [],
   "source": [
    "class C2(C1):\n",
    "    def assign_gender(self,gender):\n",
    "        self.gender=gender\n",
    "\n",
    "    def show_gender(self):\n",
    "        return self.gender"
   ]
  },
  {
   "cell_type": "code",
   "execution_count": 7,
   "id": "7ae729e7-0675-491c-8aad-a75e5046b9ba",
   "metadata": {},
   "outputs": [],
   "source": [
    "ap = C2()"
   ]
  },
  {
   "cell_type": "code",
   "execution_count": 8,
   "id": "6ed26d14-1c7e-4135-adef-819686fb0329",
   "metadata": {},
   "outputs": [],
   "source": [
    "ap.assign_name(\"pratik\")"
   ]
  },
  {
   "cell_type": "code",
   "execution_count": 9,
   "id": "95aaef46-f771-4b94-93f5-b95b8e710b32",
   "metadata": {},
   "outputs": [],
   "source": [
    "ap.assign_age(21)"
   ]
  },
  {
   "cell_type": "code",
   "execution_count": 10,
   "id": "ccea7d85-73d7-4b1e-8e51-86005039aa81",
   "metadata": {},
   "outputs": [],
   "source": [
    "ap.assign_gender(\"male\")"
   ]
  },
  {
   "cell_type": "code",
   "execution_count": 11,
   "id": "1cbc4827-408a-4d56-91d6-5bcce6d50799",
   "metadata": {},
   "outputs": [
    {
     "data": {
      "text/plain": [
       "'male'"
      ]
     },
     "execution_count": 11,
     "metadata": {},
     "output_type": "execute_result"
    }
   ],
   "source": [
    "ap.show_gender()"
   ]
  },
  {
   "cell_type": "code",
   "execution_count": 12,
   "id": "09102fb6-b23c-46b6-854c-ecc0974a112a",
   "metadata": {},
   "outputs": [
    {
     "data": {
      "text/plain": [
       "21"
      ]
     },
     "execution_count": 12,
     "metadata": {},
     "output_type": "execute_result"
    }
   ],
   "source": [
    "ap.show_age()"
   ]
  },
  {
   "cell_type": "code",
   "execution_count": 27,
   "id": "1d5d9d8d-de0e-4fce-b48a-781b6f74959d",
   "metadata": {},
   "outputs": [
    {
     "data": {
      "text/plain": [
       "'pratik'"
      ]
     },
     "execution_count": 27,
     "metadata": {},
     "output_type": "execute_result"
    }
   ],
   "source": [
    "ap.show_name()"
   ]
  },
  {
   "cell_type": "code",
   "execution_count": 35,
   "id": "44441da6-db13-46f2-b2cd-16e363b1a6f9",
   "metadata": {},
   "outputs": [],
   "source": [
    "#file handaling"
   ]
  },
  {
   "cell_type": "code",
   "execution_count": null,
   "id": "c7364dad-3c53-4d47-8b8a-8c968c084295",
   "metadata": {},
   "outputs": [],
   "source": []
  }
 ],
 "metadata": {
  "kernelspec": {
   "display_name": "Python 3 (ipykernel)",
   "language": "python",
   "name": "python3"
  },
  "language_info": {
   "codemirror_mode": {
    "name": "ipython",
    "version": 3
   },
   "file_extension": ".py",
   "mimetype": "text/x-python",
   "name": "python",
   "nbconvert_exporter": "python",
   "pygments_lexer": "ipython3",
   "version": "3.11.7"
  }
 },
 "nbformat": 4,
 "nbformat_minor": 5
}
